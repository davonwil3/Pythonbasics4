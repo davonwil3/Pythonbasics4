{
 "cells": [
  {
   "cell_type": "markdown",
   "metadata": {},
   "source": [
    "# Object-Oriented-Programming (OOP)"
   ]
  },
  {
   "cell_type": "markdown",
   "metadata": {},
   "source": [
    "## Tasks Today:\n",
    "\n",
    "   \n",
    "\n",
    "1) <b>Creating a Class (Initializing/Declaring)</b> <br>\n",
    "2) <b>Using a Class (Instantiating)</b> <br>\n",
    " &nbsp;&nbsp;&nbsp;&nbsp; a) Creating One Instance <br>\n",
    " &nbsp;&nbsp;&nbsp;&nbsp; b) Creating Multiple Instances <br>\n",
    " &nbsp;&nbsp;&nbsp;&nbsp; c) In-Class Exercise #1 - Create a Class 'Car' and instantiate three different makes of cars <br>\n",
    "3) <b>The \\__init\\__() Method</b> <br>\n",
    " &nbsp;&nbsp;&nbsp;&nbsp; a) The 'self' Attribute <br>\n",
    "4) <b>Class Attributes</b> <br>\n",
    " &nbsp;&nbsp;&nbsp;&nbsp; a) Initializing Attributes <br>\n",
    " &nbsp;&nbsp;&nbsp;&nbsp; b) Setting an Attribute Outside of the \\__init\\__() Method <br>\n",
    " &nbsp;&nbsp;&nbsp;&nbsp; c) Setting Defaults for Attributes <br>\n",
    " &nbsp;&nbsp;&nbsp;&nbsp; d) Accessing Class Attributes <br>\n",
    " &nbsp;&nbsp;&nbsp;&nbsp; e) Changing Class Attributes <br>\n",
    " &nbsp;&nbsp;&nbsp;&nbsp; f) In-Class Exercise #2 - Add a color and wheels attribute to your 'Car' class <br>\n",
    "5) <b>Class Methods</b> <br>\n",
    " &nbsp;&nbsp;&nbsp;&nbsp; a) Creating <br>\n",
    " &nbsp;&nbsp;&nbsp;&nbsp; b) Calling <br>\n",
    " &nbsp;&nbsp;&nbsp;&nbsp; c) Modifying an Attribute's Value Through a Method <br>\n",
    " &nbsp;&nbsp;&nbsp;&nbsp; d) Incrementing an Attribute's Value Through a Method <br>\n",
    " &nbsp;&nbsp;&nbsp;&nbsp; e) In-Class Exercise #3 - Add a method that prints the cars color and wheel number, then call them <br>\n",
    "6) <b>Inheritance</b> <br>\n",
    " &nbsp;&nbsp;&nbsp;&nbsp; a) Syntax for Inheriting from a Parent Class <br>\n",
    " &nbsp;&nbsp;&nbsp;&nbsp; b) The \\__init\\__() Method for a Child Class (super()) <br>\n",
    " &nbsp;&nbsp;&nbsp;&nbsp; c) Defining Attributes and Methods for the Child Class <br>\n",
    " &nbsp;&nbsp;&nbsp;&nbsp; d) Method Overriding <br>\n",
    " &nbsp;&nbsp;&nbsp;&nbsp; e) In-Class Exercise #4 - Create a class 'Ford' that inherits from 'Car' class and initialize it as a Blue Ford Explorer with 4 wheels using the super() method <br>\n",
    "7) <b>Classes as Attributes</b> <br>\n",
    "8) <b>Exercises</b> <br>\n",
    " &nbsp;&nbsp;&nbsp;&nbsp; a) Exercise #1 - Turn the shopping cart program from yesterday into an object-oriented program <br>"
   ]
  },
  {
   "cell_type": "markdown",
   "metadata": {},
   "source": [
    "## Creating a Class (Initializing/Declaring)\n",
    "<p>When creating a class, function, or even a variable you are initializing that object. Initializing and Declaring occur at the same time in Python, whereas in lower level languages you have to declare an object before initializing it. This is the first step in the process of using a class.</p>"
   ]
  },
  {
   "cell_type": "code",
   "execution_count": 4,
   "metadata": {},
   "outputs": [],
   "source": [
    "class Car():\n",
    "    wheels = 4\n",
    "    color = 'blue'"
   ]
  },
  {
   "cell_type": "markdown",
   "metadata": {},
   "source": [
    "## Using a Class (Instantiating)\n",
    "<p>The process of creating a class is called <i>Instantiating</i>. Each time you create a variable of that type of class, it is referred to as an <i>Instance</i> of that class. This is the second step in the process of using a class.</p>"
   ]
  },
  {
   "cell_type": "markdown",
   "metadata": {},
   "source": [
    "##### Creating One Instance"
   ]
  },
  {
   "cell_type": "code",
   "execution_count": null,
   "metadata": {},
   "outputs": [],
   "source": [
    "ford = Car()"
   ]
  },
  {
   "cell_type": "markdown",
   "metadata": {},
   "source": [
    "##### Creating Multiple Instances"
   ]
  },
  {
   "cell_type": "code",
   "execution_count": null,
   "metadata": {},
   "outputs": [],
   "source": [
    "\n",
    "\n",
    "\n",
    "instance1 = MyClass(\"Object1\")\n",
    "instance2 = MyClass(\"Object2\")\n"
   ]
  },
  {
   "cell_type": "markdown",
   "metadata": {},
   "source": [
    "##### In-Class Exercise #1 - Create a Class 'Car' and Instantiate three different makes of cars"
   ]
  },
  {
   "cell_type": "code",
   "execution_count": null,
   "metadata": {},
   "outputs": [],
   "source": [
    "class Car:\n",
    "    def __init__(self, make, model, year):\n",
    "        self.make = make\n",
    "        self.model = model\n",
    "        self.year = year\n",
    "\n",
    "    def display_info(self):\n",
    "        return f\"{self.year} {self.make} {self.model}\"\n",
    "\n",
    "car1 = Car(\"Toyota\", \"Camry\", 2022)\n",
    "car2 = Car(\"Ford\", \"Mustang\", 2023)\n",
    "car3 = Car(\"Honda\", \"Accord\", 2021)\n",
    "\n"
   ]
  },
  {
   "cell_type": "markdown",
   "metadata": {},
   "source": [
    "## The \\__init\\__() Method <br>\n",
    "<p>This method is used in almost every created class, and called only once upon the creation of the class instance. This method will initialize all variables needed for the object.</p>"
   ]
  },
  {
   "cell_type": "code",
   "execution_count": null,
   "metadata": {},
   "outputs": [],
   "source": [
    "class Car:\n",
    "    def __init__(self, make, model, year): #must do when making classes\n",
    "        self.make = make\n",
    "        self.model = model\n",
    "        self.year = year\n",
    "        \n",
    "         def display_info(self):\n",
    "        return f\"{self.year} {self.make} {self.model}\"\n",
    "\n",
    "car1 = Car(\"Toyota\", \"Camry\", 2022)\n",
    "car2 = Car(\"Ford\", \"Mustang\", 2023)\n",
    "car3 = Car(\"Honda\", \"Accord\", 2021)\n",
    "\n"
   ]
  },
  {
   "cell_type": "markdown",
   "metadata": {},
   "source": [
    "##### The 'self' Attribute <br>\n",
    "<p>This attribute is required to keep track of specific instance's attributes. Without the self attribute, the program would not know how to reference or keep track of an instance's attributes.</p>"
   ]
  },
  {
   "cell_type": "code",
   "execution_count": null,
   "metadata": {},
   "outputs": [],
   "source": [
    "class Car:\n",
    "    def __init__(self, make, model, year): \n",
    "        self.make = make    #self must be used\n",
    "        self.model = model\n",
    "        self.year = year\n",
    "        \n",
    "         def display_info(self):\n",
    "        return f\"{self.year} {self.make} {self.model}\"\n",
    "\n",
    "car1 = Car(\"Toyota\", \"Camry\", 2022)\n",
    "car2 = Car(\"Ford\", \"Mustang\", 2023)\n",
    "car3 = Car(\"Honda\", \"Accord\", 2021)"
   ]
  },
  {
   "cell_type": "markdown",
   "metadata": {},
   "source": [
    "## Class Attributes <br>\n",
    "<p>While variables are inside of a class, they are referred to as attributes and not variables. When someone says 'attribute' you know they're speaking about a class. Attributes can be initialized through the init method, or outside of it.</p>"
   ]
  },
  {
   "cell_type": "markdown",
   "metadata": {},
   "source": [
    "##### Initializing Attributes"
   ]
  },
  {
   "cell_type": "code",
   "execution_count": null,
   "metadata": {},
   "outputs": [],
   "source": [
    "# see aboveclass Car:\n",
    "class Car:\n",
    "    def __init__(self, make, model, year): \n",
    "        self.make = make\n",
    "        self.model = model        #initializing attributes to get access to them\n",
    "        self.year = year\n",
    "        \n",
    "         def display_info(self):\n",
    "        return f\"{self.year} {self.make} {self.model}\"\n",
    "\n",
    "car1 = Car(\"Toyota\", \"Camry\", 2022)\n",
    "car2 = Car(\"Ford\", \"Mustang\", 2023)\n",
    "car3 = Car(\"Honda\", \"Accord\", 2021)"
   ]
  },
  {
   "cell_type": "markdown",
   "metadata": {},
   "source": [
    "##### Accessing Class Attributes"
   ]
  },
  {
   "cell_type": "code",
   "execution_count": null,
   "metadata": {
    "scrolled": true
   },
   "outputs": [],
   "source": [
    "car1.make\n",
    "car2.model"
   ]
  },
  {
   "cell_type": "markdown",
   "metadata": {},
   "source": [
    "##### Setting Defaults for Attributes"
   ]
  },
  {
   "cell_type": "code",
   "execution_count": null,
   "metadata": {},
   "outputs": [],
   "source": [
    "class Car:\n",
    "    def __init__(self, make, model, year): \n",
    "        self.make = make\n",
    "        self.model = model        \n",
    "        self.year = year\n",
    "        self.color = 'blue'   #initializes default attribute"
   ]
  },
  {
   "cell_type": "markdown",
   "metadata": {},
   "source": [
    "##### Changing Class Attributes <br>\n",
    "<p>Keep in mind there are global class attributes and then there are attributes only available to each class instance which won't effect other classes.</p>"
   ]
  },
  {
   "cell_type": "code",
   "execution_count": null,
   "metadata": {},
   "outputs": [],
   "source": [
    "car1.make \n"
   ]
  },
  {
   "cell_type": "code",
   "execution_count": null,
   "metadata": {},
   "outputs": [],
   "source": [
    "car1.make = Subaru # can change like this"
   ]
  },
  {
   "cell_type": "markdown",
   "metadata": {},
   "source": [
    "##### In-Class Exercise #2 - Add a doors and seats attribute to your 'Car' class then print out two different instances with different doors and seats"
   ]
  },
  {
   "cell_type": "code",
   "execution_count": 2,
   "metadata": {},
   "outputs": [
    {
     "name": "stdout",
     "output_type": "stream",
     "text": [
      "2022 Toyota Camry 4 4\n",
      "2023 Ford Mustang 2 2\n"
     ]
    }
   ],
   "source": [
    "class Car:\n",
    "    def __init__(self, make, model, year, doors, seats): \n",
    "        self.make = make\n",
    "        self.model = model        \n",
    "        self.year = year\n",
    "        self.doors = doors\n",
    "        self.seats = seats\n",
    "        \n",
    "    def display_info(self):\n",
    "        return print(f\"{self.year} {self.make} {self.model} {self.doors} {self.seats}\")\n",
    "\n",
    "car1 = Car(\"Toyota\", \"Camry\", 2022, 4, 4)\n",
    "car2 = Car(\"Ford\", \"Mustang\", 2023, 2, 2)\n",
    "car3 = Car(\"Honda\", \"Accord\", 2021, 4, 4)\n",
    "\n",
    "car1.display_info()\n",
    "car2.display_info()"
   ]
  },
  {
   "cell_type": "markdown",
   "metadata": {},
   "source": [
    "## Class Methods <br>\n",
    "<p>While inside of a class, functions are referred to as 'methods'. If you hear someone mention methods, they're speaking about classes. Methods are essentially functions, but only callable on the instances of a class.</p>"
   ]
  },
  {
   "cell_type": "markdown",
   "metadata": {},
   "source": [
    "##### Creating"
   ]
  },
  {
   "cell_type": "code",
   "execution_count": null,
   "metadata": {},
   "outputs": [],
   "source": [
    "class Car:\n",
    "    def __init__(self, make, model, year): \n",
    "        self.make = make\n",
    "        self.model = model        \n",
    "        self.year = year\n",
    "        \n",
    "         def display_info(self): #create method\n",
    "        return f\"{self.year} {self.make} {self.model}\"\n",
    "\n",
    "car1 = Car(\"Toyota\", \"Camry\", 2022)\n",
    "car2 = Car(\"Ford\", \"Mustang\", 2023)\n",
    "car3 = Car(\"Honda\", \"Accord\", 2021)"
   ]
  },
  {
   "cell_type": "markdown",
   "metadata": {},
   "source": [
    "##### Calling"
   ]
  },
  {
   "cell_type": "code",
   "execution_count": null,
   "metadata": {},
   "outputs": [],
   "source": [
    "class Car:\n",
    "    def __init__(self, make, model, year, doors, seats): \n",
    "        self.make = make\n",
    "        self.model = model        \n",
    "        self.year = year\n",
    "        self.doors = doors\n",
    "        self.seats = seats\n",
    "        \n",
    "    def display_info(self):\n",
    "        return print(f\"{self.year} {self.make} {self.model} {self.doors} {self.seats}\")\n",
    "\n",
    "car1 = Car(\"Toyota\", \"Camry\", 2022, 4, 4)\n",
    "car2 = Car(\"Ford\", \"Mustang\", 2023, 2, 2)\n",
    "car3 = Car(\"Honda\", \"Accord\", 2021, 4, 4)\n",
    "\n",
    "car1.display_info() #calling method\n",
    "car2.display_info()ve"
   ]
  },
  {
   "cell_type": "markdown",
   "metadata": {},
   "source": [
    "##### Modifying an Attribute's Value Through a Method"
   ]
  },
  {
   "cell_type": "code",
   "execution_count": 4,
   "metadata": {},
   "outputs": [
    {
     "name": "stdout",
     "output_type": "stream",
     "text": [
      "2022 Toyota Camry 4 4\n",
      "2023 Ford Mustang 2 2\n",
      "4\n"
     ]
    }
   ],
   "source": [
    "class Car:\n",
    "    def __init__(self, make, model, year, doors, seats): \n",
    "        self.make = make\n",
    "        self.model = model        \n",
    "        self.year = year\n",
    "        self.doors = doors\n",
    "        self.seats = seats\n",
    "        \n",
    "    def display_info(self):\n",
    "        return print(f\"{self.year} {self.make} {self.model} {self.doors} {self.seats}\")\n",
    "    def change_year (self, year):\n",
    "        self.year = year\n",
    "\n",
    "car1 = Car(\"Toyota\", \"Camry\", 2022, 4, 4)\n",
    "car2 = Car(\"Ford\", \"Mustang\", 2023, 2, 2)\n",
    "car3 = Car(\"Honda\", \"Accord\", 2021, 4, 4)\n",
    "\n",
    "car1.display_info()\n",
    "car2.display_info()\n",
    "car2.change_year(2021)"
   ]
  },
  {
   "cell_type": "markdown",
   "metadata": {},
   "source": [
    "##### Incrementing an Attribute's Value Through a Method"
   ]
  },
  {
   "cell_type": "code",
   "execution_count": null,
   "metadata": {},
   "outputs": [],
   "source": [
    "class Car:\n",
    "    def __init__(self, make, model, year, doors, seats): \n",
    "        self.make = make\n",
    "        self.model = model        \n",
    "        self.year = year\n",
    "        self.doors = doors\n",
    "        self.seats = seats\n",
    "        \n",
    "    def display_info(self):\n",
    "        return print(f\"{self.year} {self.make} {self.model} {self.doors} {self.seats}\")\n",
    "    def increase_seats (self): #incrementing attributes value\n",
    "        self.seats += 2\n",
    "        return print(f\"{self.seats}\")\n",
    "\n",
    "car1 = Car(\"Toyota\", \"Camry\", 2022, 4, 4)\n",
    "car2 = Car(\"Ford\", \"Mustang\", 2023, 2, 2)\n",
    "car3 = Car(\"Honda\", \"Accord\", 2021, 4, 4)\n",
    "\n",
    "car1.display_info()\n",
    "car2.display_info()\n",
    "car2.increase_seats()"
   ]
  },
  {
   "cell_type": "markdown",
   "metadata": {},
   "source": [
    "##### In-Class Exercise #3 - Add a method that takes in three parameters of year, doors and seats and prints out a formatted print statement with make, model, year, seats, and doors"
   ]
  },
  {
   "cell_type": "code",
   "execution_count": 5,
   "metadata": {},
   "outputs": [
    {
     "name": "stdout",
     "output_type": "stream",
     "text": [
      "Toyota Camry 2018 4 4\n"
     ]
    }
   ],
   "source": [
    "class Car:\n",
    "    def __init__(self, make, model): \n",
    "        self.make = make\n",
    "        self.model = model        \n",
    "        \n",
    "    def display_info(self, year, doors, seats):\n",
    "        return print(f\"{self.make} {self.model} {year} {doors} {seats}\")\n",
    "\n",
    "car1 = Car(\"Toyota\", \"Camry\")\n",
    "\n",
    "car1.display_info(2018, 4, 4)\n",
    "\n",
    "\n",
    "\n"
   ]
  },
  {
   "cell_type": "markdown",
   "metadata": {},
   "source": [
    "## Inheritance <br>\n",
    "<p>You can create a child-parent relationship between two classes by using inheritance. What this allows you to do is have overriding methods, but also inherit traits from the parent class. Think of it as an actual parent and child, the child will inherit the parent's genes, as will the classes in OOP</p>"
   ]
  },
  {
   "cell_type": "markdown",
   "metadata": {},
   "source": [
    "##### Syntax for Inheriting from a Parent Class"
   ]
  },
  {
   "cell_type": "code",
   "execution_count": null,
   "metadata": {},
   "outputs": [],
   "source": [
    "class Vehicle:\n",
    "    def __init__(self, brand, model):\n",
    "        self.brand = brand\n",
    "        self.model = model\n",
    "\n",
    "class Car(Vehicle):\n",
    "    def __init__(self, brand, model, num_doors):"
   ]
  },
  {
   "cell_type": "markdown",
   "metadata": {},
   "source": [
    "##### The \\__init\\__() Method for a Child Class - super()"
   ]
  },
  {
   "cell_type": "code",
   "execution_count": null,
   "metadata": {
    "scrolled": true
   },
   "outputs": [],
   "source": [
    "class Vehicle:\n",
    "    def __init__(self, brand, model):\n",
    "        self.brand = brand\n",
    "        self.model = model\n",
    "\n",
    "class Car(Vehicle):\n",
    "    def __init__(self, brand, model, num_doors):\n",
    "        # Call the constructor of the parent class\n",
    "        super().__init__(brand, model)"
   ]
  },
  {
   "cell_type": "markdown",
   "metadata": {},
   "source": [
    "##### Defining Attributes and Methods for the Child Class"
   ]
  },
  {
   "cell_type": "code",
   "execution_count": null,
   "metadata": {},
   "outputs": [],
   "source": [
    "class Vehicle:\n",
    "    def __init__(self, brand, model):\n",
    "        self.brand = brand\n",
    "        self.model = model\n",
    "\n",
    "    def display_info(self):\n",
    "        return f\"{self.brand} {self.model}\"\n",
    "\n",
    "class Car(Vehicle):\n",
    "    def __init__(self, brand, model, num_doors):\n",
    "        super().__init__(brand, model)\n",
    "        self.num_doors = num_doors\n",
    "\n",
    "    def display_info(self):\n",
    "        # Call the display_info method of the parent class\n",
    "        parent_info = super().display_info()\n",
    "        return f\"{parent_info}, {self.num_doors} doors\"\n",
    "\n",
    "\n",
    "my_car = Car(\"Toyota\", \"Camry\", 4)\n",
    "\n",
    "print(my_car.display_info())\n"
   ]
  },
  {
   "cell_type": "markdown",
   "metadata": {},
   "source": [
    "##### Method Overriding"
   ]
  },
  {
   "cell_type": "code",
   "execution_count": null,
   "metadata": {},
   "outputs": [],
   "source": [
    "class Vehicle:\n",
    "    def __init__(self, brand, model):\n",
    "        self.brand = brand\n",
    "        self.model = model\n",
    "\n",
    "    def display_info(self):\n",
    "        return f\"{self.brand} {self.model}\"\n",
    "\n",
    "class Car(Vehicle):\n",
    "    def __init__(self, brand, model, num_doors):\n",
    "        super().__init__(brand, model)\n",
    "        self.num_doors = num_doors\n",
    "\n",
    "    def display_info(self):\n",
    "        # overiding method display_info\n",
    "        parent_info = super().display_info()\n",
    "        return f\"{parent_info}, {self.num_doors} doors\"\n",
    "\n",
    "\n",
    "my_car = Car(\"Toyota\", \"Camry\", 4)\n",
    "\n",
    "print(my_car.display_info())"
   ]
  },
  {
   "cell_type": "markdown",
   "metadata": {},
   "source": [
    "## Classes as Attributes <br>\n",
    "<p>Classes can also be used as attributes within another class. This is useful in situations where you need to keep variables locally stored, instead of globally stored.</p>"
   ]
  },
  {
   "cell_type": "code",
   "execution_count": null,
   "metadata": {},
   "outputs": [],
   "source": [
    "class Battery:\n",
    "    def volts = 7.8\n",
    "    def __init__(self, cells):\n",
    "        self.cells = cells\n",
    "class Vehicle:\n",
    "    def __init__(self, brand, model, battery):\n",
    "        self.brand = brand\n",
    "        self.model = model\n",
    "        self.battery = battery\n",
    "        \n",
    "newBattery = Battery(20)\n",
    "\n",
    "newVehicle = Vehicle(\"toyota\", \"camry\", newBattery)\n",
    "        \n",
    "    \n",
    "    \n",
    "    \n",
    "    "
   ]
  },
  {
   "cell_type": "markdown",
   "metadata": {},
   "source": [
    "# Exercises"
   ]
  },
  {
   "cell_type": "markdown",
   "metadata": {},
   "source": [
    "### Exercise 1 - Turn the shopping cart program from yesterday into an object-oriented program\n",
    "\n",
    "The comments in the cell below are there as a guide for thinking about the problem. However, if you feel a different way is best for you and your own thought process, please do what feels best for you by all means."
   ]
  },
  {
   "cell_type": "code",
   "execution_count": 6,
   "metadata": {},
   "outputs": [
    {
     "name": "stdout",
     "output_type": "stream",
     "text": [
      "Do you want to: Show/Add/Delete or Quit? add\n",
      "Please enter the number for the product you want to buy\n",
      "\n",
      "1) T_shirt : 10.0\n",
      "2) Hoodie : 20.0\n",
      "3) jeans : 15.0\n",
      "4) glasses : 5.0\n",
      "5) sneakers : 25.0\n",
      "6) socks : 3.0\n",
      "1\n",
      "T_shirt added to your cart\n",
      "Do you want to: Show/Add/Delete or Quit? add\n",
      "Please enter the number for the product you want to buy\n",
      "\n",
      "1) T_shirt : 10.0\n",
      "2) Hoodie : 20.0\n",
      "3) jeans : 15.0\n",
      "4) glasses : 5.0\n",
      "5) sneakers : 25.0\n",
      "6) socks : 3.0\n",
      "2\n",
      "Hoodie added to your cart\n",
      "Do you want to: Show/Add/Delete or Quit? show\n",
      "Here is your Cart\n",
      "\n",
      "T_shirt : 10.0\n",
      "Hoodie : 20.0\n",
      "Total : 30.0\n",
      "Do you want to: Show/Add/Delete or Quit? delete\n",
      "Here is your Cart\n",
      "\n",
      "T_shirt : 10.0\n",
      "Hoodie : 20.0\n",
      "Total : 30.0\n",
      "Enter the number of the product you want to delete\n",
      "1\n",
      "Item deleted from your cart\n",
      "Do you want to: Show/Add/Delete or Quit? show\n",
      "Here is your Cart\n",
      "\n",
      "Hoodie : 20.0\n",
      "Total : 20.0\n",
      "Do you want to: Show/Add/Delete or Quit? quit\n",
      "Here is your Cart. Thanks for shopping!\n",
      "\n",
      "Here is your Cart\n",
      "\n",
      "Hoodie : 20.0\n",
      "Total : 20.0\n"
     ]
    }
   ],
   "source": [
    "class ShoppingCart:\n",
    "    def __init__(self):\n",
    "        self.ecommerce = {\n",
    "            1: {\"T_shirt\": 10.00},\n",
    "            2: {\"Hoodie\": 20.00},\n",
    "            3: {\"jeans\": 15.00},\n",
    "            4: {\"glasses\": 5.00},\n",
    "            5: {\"sneakers\": 25.00},\n",
    "            6: {\"socks\": 3.00}\n",
    "        }\n",
    "        self.cart = {}\n",
    "\n",
    "    def display_products(self):\n",
    "        print(\"Please enter the number for the product you want to buy\\n\")\n",
    "        for key1, value1 in self.ecommerce.items():\n",
    "            for key2, value2 in value1.items():\n",
    "                print(f\"{key1}) {key2} : {value2}\")\n",
    "\n",
    "    def add_to_cart(self, product_number):\n",
    "        for key1, value1 in self.ecommerce.items():\n",
    "            for key2, value2 in value1.items():\n",
    "                if int(product_number) == key1:\n",
    "                    self.cart[len(self.cart) + 1] = {key2: value2}\n",
    "                    print(f\"{key2} added to your cart\")\n",
    "\n",
    "    def display_cart(self):\n",
    "        cart_value = 0\n",
    "        print(\"Here is your Cart\\n\")\n",
    "        for key, value in self.cart.items():\n",
    "            for key2, value2 in value.items():\n",
    "                print(f\"{key2} : {value2}\")\n",
    "                cart_value += float(value2)\n",
    "        print(f\"Total : {cart_value}\")\n",
    "\n",
    "    def delete_from_cart(self, item_number):\n",
    "        del self.cart[int(item_number)]\n",
    "        print(\"Item deleted from your cart\")\n",
    "\n",
    "    def shop(self):\n",
    "        while True:\n",
    "            user_input = input(\"Do you want to: Show/Add/Delete or Quit? \").lower()\n",
    "\n",
    "            if user_input == \"show\":\n",
    "                self.display_cart()\n",
    "            elif user_input == \"add\":\n",
    "                self.display_products()\n",
    "                user_purchase = input()\n",
    "                self.add_to_cart(user_purchase)\n",
    "            elif user_input == \"delete\":\n",
    "                self.display_cart()\n",
    "                item_to_delete = input(\"Enter the number of the product you want to delete\\n\")\n",
    "                self.delete_from_cart(item_to_delete)\n",
    "            elif user_input == \"quit\":\n",
    "                print(\"Here is your Cart. Thanks for shopping!\\n\")\n",
    "                self.display_cart()\n",
    "                break\n",
    "            else:\n",
    "                print(\"Invalid entry\")\n",
    "\n",
    "\n",
    "shopping_cart = ShoppingCart()\n",
    "\n",
    "shopping_cart.shop()\n",
    "\n",
    "    "
   ]
  },
  {
   "cell_type": "markdown",
   "metadata": {},
   "source": [
    "### Exercise 2 - Write a Python class which has two methods get_String and print_String. get_String accept a string from the user and print_String print the string in upper case"
   ]
  },
  {
   "cell_type": "code",
   "execution_count": 7,
   "metadata": {},
   "outputs": [
    {
     "name": "stdout",
     "output_type": "stream",
     "text": [
      "Enter a string: davon\n",
      "Uppercase string: DAVON\n"
     ]
    }
   ],
   "source": [
    "class stringChanger:\n",
    "    def __init__(self):\n",
    "        self.user_string = \"\"\n",
    "\n",
    "    def get_String(self):\n",
    "        self.user_string = input(\"Enter a string: \")\n",
    "\n",
    "    def print_String(self):\n",
    "        print(\"Uppercase string:\", self.user_string.upper())\n",
    "\n",
    "\n",
    "string_change = stringChanger()\n",
    "\n",
    "string_change.get_String()\n",
    "\n",
    "string_change.print_String()\n"
   ]
  },
  {
   "cell_type": "code",
   "execution_count": null,
   "metadata": {},
   "outputs": [],
   "source": []
  }
 ],
 "metadata": {
  "kernelspec": {
   "display_name": "Python 3 (ipykernel)",
   "language": "python",
   "name": "python3"
  },
  "language_info": {
   "codemirror_mode": {
    "name": "ipython",
    "version": 3
   },
   "file_extension": ".py",
   "mimetype": "text/x-python",
   "name": "python",
   "nbconvert_exporter": "python",
   "pygments_lexer": "ipython3",
   "version": "3.11.5"
  }
 },
 "nbformat": 4,
 "nbformat_minor": 2
}
